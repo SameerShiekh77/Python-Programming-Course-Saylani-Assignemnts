{
 "cells": [
  {
   "cell_type": "code",
   "execution_count": 1,
   "metadata": {},
   "outputs": [
    {
     "name": "stdout",
     "output_type": "stream",
     "text": [
      "Twinkle, twinkle, little star,\n",
      "    How I wonder what you are!\n",
      "        Up above the world so high,\n",
      "        Like a diamond in the sky.\n",
      "Twinkle, twinkle, little star,\n",
      "    How I wonder what you are\n"
     ]
    }
   ],
   "source": [
    "\"\"\"\n",
    "1. Write a Python program to print the following string in a specific format (see the\n",
    "output).\n",
    "Twinkle, twinkle, little star,\n",
    "    How I wonder what you are!\n",
    "        Up above the world so high,\n",
    "        Like a diamond in the sky.\n",
    "Twinkle, twinkle, little star,\n",
    "    How I wonder what you are\n",
    "\"\"\"\n",
    "\n",
    "print(\"\"\"Twinkle, twinkle, little star,\n",
    "    How I wonder what you are!\n",
    "        Up above the world so high,\n",
    "        Like a diamond in the sky.\n",
    "Twinkle, twinkle, little star,\n",
    "    How I wonder what you are\"\"\")\n"
   ]
  },
  {
   "cell_type": "code",
   "execution_count": 2,
   "metadata": {},
   "outputs": [
    {
     "name": "stdout",
     "output_type": "stream",
     "text": [
      "Python Version: 3.8.5 (default, Sep  3 2020, 21:29:08) [MSC v.1916 64 bit (AMD64)]\n"
     ]
    }
   ],
   "source": [
    "#2. Write a Python program to get the Python version you are using \n",
    "\n",
    "import sys\n",
    "print(\"Python Version:\" ,sys.version)"
   ]
  },
  {
   "cell_type": "code",
   "execution_count": 3,
   "metadata": {},
   "outputs": [
    {
     "name": "stdout",
     "output_type": "stream",
     "text": [
      "Current date and time : \n",
      "2021-10-21 23:52:11\n"
     ]
    }
   ],
   "source": [
    "#3. Write a Python program to display the current date and time.\n",
    "\n",
    "from datetime import datetime\n",
    "now = datetime.now()\n",
    "print(\"Current date and time : \")\n",
    "print(now.strftime(\"%Y-%m-%d %H:%M:%S\"))\n"
   ]
  },
  {
   "cell_type": "code",
   "execution_count": 4,
   "metadata": {},
   "outputs": [
    {
     "name": "stdout",
     "output_type": "stream",
     "text": [
      "Enter value of radius of circle: 12\n",
      "452.39\n"
     ]
    }
   ],
   "source": [
    "#4. Write a Python program which accepts the radius of a circle from the user and compute the area.\n",
    "import math\n",
    "radius = float(input(\"Enter value of radius of circle: \"))\n",
    "Area = math.pi * math.pow(radius,2)\n",
    "print(round(Area,2))"
   ]
  },
  {
   "cell_type": "code",
   "execution_count": 5,
   "metadata": {},
   "outputs": [
    {
     "name": "stdout",
     "output_type": "stream",
     "text": [
      "Enter First Name: sameer\n",
      "Enter Last Name: akbar\n",
      "akbar sameer\n"
     ]
    }
   ],
   "source": [
    "#5. Write a Python program which accepts the user's first and last name and print them in reverse order with a space between\n",
    "# them.\n",
    "\n",
    "fname = input(\"Enter First Name: \")\n",
    "lname = input(\"Enter Last Name: \")\n",
    "print(lname +\" \"+ fname)"
   ]
  },
  {
   "cell_type": "code",
   "execution_count": 6,
   "metadata": {},
   "outputs": [
    {
     "name": "stdout",
     "output_type": "stream",
     "text": [
      "Enter number 1: 7\n",
      "Enter number 2: 4\n",
      "Addition of two number is:  11\n"
     ]
    }
   ],
   "source": [
    "# 6. Write a python program which takes two inputs from user and print them addition \n",
    "num1 = int(input(\"Enter number 1: \"))\n",
    "num2 = int(input(\"Enter number 2: \"))\n",
    "print(\"Addition of two number is: \", num1+num2)"
   ]
  },
  {
   "cell_type": "code",
   "execution_count": 7,
   "metadata": {},
   "outputs": [
    {
     "name": "stdout",
     "output_type": "stream",
     "text": [
      "Enter Marks of Linear Algebra: 78\n",
      "Enter Marks of Introduction To Computer: 85\n",
      "Enter Marks of Data Structure Algorithm: 98\n",
      "Enter Marks of Theory Of Automata: 47\n",
      "Enter Marks of Database Mangement System: 68\n",
      "\n",
      "##############RESULTS##############\n",
      "Total Marks:  500 \n",
      "Obtained Marks:  376.0 \n",
      "Percentage:  75 %\n",
      "Grade:  A\n"
     ]
    }
   ],
   "source": [
    "\"\"\"\n",
    "7. Write a program which takes 5 inputs from user for different subject’s marks, total it\n",
    "and generate mark sheet using grades ?\n",
    "\"\"\"\n",
    "# initalize totalMarks\n",
    "total_marks = 500\n",
    "# obtained marks now zero\n",
    "obtained_marks = 0\n",
    "\n",
    "# take input as a math marks from user \n",
    "math = float(input(\"Enter Marks of Linear Algebra: \"))\n",
    "# checking the user enter valid number or not\n",
    "if(math >0 and math <100):\n",
    "    obtained_marks = obtained_marks + math\n",
    "else:\n",
    "    print(\"Invalid Marks\")\n",
    "\n",
    "# take input as a ITC marks from user     \n",
    "ITC = float(input(\"Enter Marks of Introduction To Computer: \"))\n",
    "# checking the user enter valid number or not\n",
    "if(ITC >0 and ITC <100):\n",
    "    obtained_marks = obtained_marks + ITC\n",
    "else:\n",
    "    print(\"Invalid Marks\")\n",
    "\n",
    "# take input as a DSA marks from user     \n",
    "DSA = float(input(\"Enter Marks of Data Structure Algorithm: \"))\n",
    "# checking the user enter valid number or not\n",
    "if(DSA >0 and DSA <100):\n",
    "    obtained_marks = obtained_marks + DSA\n",
    "else:\n",
    "    print(\"Invalid Marks\")\n",
    "    \n",
    "# take input as a TOA marks from user     \n",
    "TOA = float(input(\"Enter Marks of Theory Of Automata: \"))\n",
    "# checking the user enter valid number or not\n",
    "if(TOA >0 and TOA <100):\n",
    "    obtained_marks = obtained_marks + TOA\n",
    "else:\n",
    "    print(\"Invalid Marks\")\n",
    "    \n",
    "# take input as a DBMS marks from user     \n",
    "DBMS = float(input(\"Enter Marks of Database Mangement System: \"))\n",
    "# checking the user enter valid number or not\n",
    "if(DBMS >0 and DBMS <100):\n",
    "    obtained_marks = obtained_marks + DBMS\n",
    "else:\n",
    "    print(\"Invalid Marks\")\n",
    "\n",
    "percentage = (obtained_marks/total_marks)*100\n",
    "if percentage < 100 and percentage >= 80:\n",
    "    grade = 'A+'\n",
    "    print(\"\\n##############RESULTS##############\\nTotal Marks: \", total_marks,\"\\nObtained Marks: \", \n",
    "          obtained_marks, \"\\nPercentage: \", percentage, \"%\\nGrade: \", grade)        \n",
    "elif percentage < 80 and percentage >= 70:\n",
    "    grade = \"A\"\n",
    "    print(\"\\n##############RESULTS##############\\nTotal Marks: \", total_marks,\"\\nObtained Marks: \", \n",
    "          obtained_marks, \"\\nPercentage: \", round(percentage), \"%\\nGrade: \", grade)        \n",
    "elif percentage < 70 and percentage >= 60:\n",
    "    grade = \"B\"\n",
    "    print(\"\\n##############RESULTS##############\\nTotal Marks: \", total_marks,\"\\nObtained Marks: \", \n",
    "          obtained_marks, \"\\nPercentage: \", round(percentage), \"%\\nGrade: \", grade)        \n",
    "elif percentage < 60 and percentage >= 50:\n",
    "    grade = \"C\"\n",
    "    print(\"\\n##############RESULTS##############\\nTotal Marks: \", total_marks,\"\\nObtained Marks: \", \n",
    "          obtained_marks, \"\\nPercentage: \", round(percentage), \"%\\nGrade: \", grade)        \n",
    "elif percentage < 50 and percentage >= 40:\n",
    "    grade = \"D\"\n",
    "    print(\"\\n##############RESULTS##############\\nTotal Marks: \", total_marks,\"\\nObtained Marks: \", \n",
    "          obtained_marks, \"\\nPercentage: \", round(percentage), \"%\\nGrade: \", grade)        \n",
    "elif percentage < 40 and percentage >= 33:\n",
    "    grade = \"E\"\n",
    "    print(\"\\n##############RESULTS##############\\nTotal Marks: \", total_marks,\"\\nObtained Marks: \", \n",
    "          obtained_marks, \"\\nPercentage: \", round(percentage), \"%\\nGrade: \", grade)        \n",
    "elif percentage < 33:\n",
    "    grade = \"Fail\"\n",
    "    print(\"\\n##############RESULTS##############\\nTotal Marks: \", total_marks,\"\\nObtained Marks: \", \n",
    "          obtained_marks, \"\\nPercentage: \", round(percentage), \"%\\nGrade: \", grade)"
   ]
  },
  {
   "cell_type": "code",
   "execution_count": 8,
   "metadata": {},
   "outputs": [
    {
     "name": "stdout",
     "output_type": "stream",
     "text": [
      "Enter a number: 9\n",
      "9 is Odd Number\n"
     ]
    }
   ],
   "source": [
    "\"\"\"\n",
    "8. Write a program which take input from user and identify that the given number is even\n",
    "or odd? \n",
    "\"\"\"\n",
    "\n",
    "number = int(input(\"Enter a number: \"))\n",
    "if number % 2 == 0:\n",
    "    print(number, \"is Even Number\")\n",
    "else:\n",
    "    print(number, \"is Odd Number\")\n"
   ]
  },
  {
   "cell_type": "code",
   "execution_count": 9,
   "metadata": {},
   "outputs": [
    {
     "name": "stdout",
     "output_type": "stream",
     "text": [
      "The length of list is: 11\n"
     ]
    }
   ],
   "source": [
    "#9. Write a program which print the length of the list? \n",
    "a = [1, 1, 2, 3, 5, 8, 13, 21, 34, 55, 89] \n",
    "print(\"The length of list is:\",len(a))"
   ]
  },
  {
   "cell_type": "code",
   "execution_count": 10,
   "metadata": {},
   "outputs": [
    {
     "name": "stdout",
     "output_type": "stream",
     "text": [
      "Sum all the numeric items in a list is: 232\n"
     ]
    }
   ],
   "source": [
    "#10.Write a Python program to sum all the numeric items in a list? \n",
    "a = [1, 1, 2, 3, 5, 8, 13, 21, 34, 55, 89] \n",
    "sum = 0\n",
    "for i in a:\n",
    "    sum = sum + i\n",
    "print(\"Sum all the numeric items in a list is:\",sum)"
   ]
  },
  {
   "cell_type": "code",
   "execution_count": 11,
   "metadata": {},
   "outputs": [
    {
     "name": "stdout",
     "output_type": "stream",
     "text": [
      "The largest number is:  89\n"
     ]
    }
   ],
   "source": [
    "#11.Write a Python program to get the largest number from a numeric list\n",
    "a = [1, 1, 2, 3, 5, 8, 13, 21, 34, 55, 89] \n",
    "largest_number = 0\n",
    "for i in a:\n",
    "    if i > largest_number:\n",
    "        largest_number = i\n",
    "print(\"The largest number is: \", largest_number)"
   ]
  },
  {
   "cell_type": "code",
   "execution_count": 12,
   "metadata": {},
   "outputs": [
    {
     "name": "stdout",
     "output_type": "stream",
     "text": [
      "1\n",
      "1\n",
      "2\n",
      "3\n"
     ]
    }
   ],
   "source": [
    "\"\"\"\n",
    "12. Take a list, say for example this one:\n",
    "a = [1, 1, 2, 3, 5, 8, 13, 21, 34, 55, 89]\n",
    " Write a program that prints out all the elements of the list that are less than 5. \n",
    "\"\"\"\n",
    "\n",
    "a = [1, 1, 2, 3, 5, 8, 13, 21, 34, 55, 89] \n",
    "for i in a:\n",
    "    if i <5:\n",
    "        print(i)"
   ]
  },
  {
   "cell_type": "code",
   "execution_count": null,
   "metadata": {},
   "outputs": [],
   "source": []
  }
 ],
 "metadata": {
  "kernelspec": {
   "display_name": "Python 3",
   "language": "python",
   "name": "python3"
  },
  "language_info": {
   "codemirror_mode": {
    "name": "ipython",
    "version": 3
   },
   "file_extension": ".py",
   "mimetype": "text/x-python",
   "name": "python",
   "nbconvert_exporter": "python",
   "pygments_lexer": "ipython3",
   "version": "3.8.5"
  }
 },
 "nbformat": 4,
 "nbformat_minor": 4
}
