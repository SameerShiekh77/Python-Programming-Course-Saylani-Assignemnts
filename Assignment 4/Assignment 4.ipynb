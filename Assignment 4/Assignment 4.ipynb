{
 "cells": [
  {
   "cell_type": "markdown",
   "metadata": {},
   "source": [
    "# 1. Make a calculator using Python with addition , subtraction , multiplication ,division and power."
   ]
  },
  {
   "cell_type": "code",
   "execution_count": 1,
   "metadata": {},
   "outputs": [
    {
     "name": "stdout",
     "output_type": "stream",
     "text": [
      "Enter first number: 5\n",
      "Choose Operator: \n",
      "'+'\n",
      "'-'\n",
      "'/'\n",
      "'*' \n",
      "'^ (for power)' /\n",
      "Enter second number: 5\n",
      "The division of two numbers is:  1.0\n"
     ]
    }
   ],
   "source": [
    "num1 = int(input(\"Enter first number: \"))\n",
    "operator = input(\"Choose Operator: \\n'+'\\n'-'\\n'/'\\n'*' \\n'^ (for power)' \")\n",
    "if operator == '^':\n",
    "    p = int(input(\"Enter exponential value: \"))\n",
    "    print(\"The power of \",num1, \" is: \" ,pow(num1, p))\n",
    "elif operator == '+':\n",
    "    num2 = int(input(\"Enter second number: \"))\n",
    "    print(\"The addition of two numbers is: \",num1 + num2)\n",
    "elif operator == '-':\n",
    "    num2 = int(input(\"Enter second number: \"))\n",
    "    print(\"The subtraction of two numbers is: \",num1 - num2)\n",
    "elif operator == '*':\n",
    "    num2 = int(input(\"Enter second number: \"))\n",
    "    print(\"The multiplication of two numbers is: \",num1 * num2)\n",
    "elif operator == '/':\n",
    "    num2 = int(input(\"Enter second number: \"))\n",
    "    print(\"The division of two numbers is: \",num1 / num1)\n",
    "else:\n",
    "    print(\"Invalid Operator!!\")\n",
    "\n"
   ]
  },
  {
   "cell_type": "markdown",
   "metadata": {},
   "source": [
    "# 2. Write a program to check if there is any numeric value in list using for loop."
   ]
  },
  {
   "cell_type": "code",
   "execution_count": 2,
   "metadata": {},
   "outputs": [
    {
     "name": "stdout",
     "output_type": "stream",
     "text": [
      "Here is the numeric value(s) in list\n",
      "45\n",
      "21\n",
      "23\n"
     ]
    }
   ],
   "source": [
    "lst = ['sameer','hello',45,\"23\",True, 21,23,\"Python\"]\n",
    "print(\"Here is the numeric value(s) in list\")\n",
    "\n",
    "for i in lst:\n",
    "    if type(i) == int:\n",
    "        print(i)"
   ]
  },
  {
   "cell_type": "markdown",
   "metadata": {},
   "source": [
    "# 3. Write a Python script to add a key to a dictionary.\n"
   ]
  },
  {
   "cell_type": "code",
   "execution_count": 3,
   "metadata": {},
   "outputs": [
    {
     "name": "stdout",
     "output_type": "stream",
     "text": [
      "Adding new Key...\n",
      "{'name': 'sameer', 'age': 27, 'Qualification': 'BSCS (continue)'}\n"
     ]
    }
   ],
   "source": [
    "dictionary = {'name': 'sameer','age':27}\n",
    "print(\"Adding new Key...\")\n",
    "dictionary['Qualification'] = 'BSCS (continue)'\n",
    "print(dictionary)"
   ]
  },
  {
   "cell_type": "markdown",
   "metadata": {},
   "source": [
    "# 4. Write a Python program to sum all the numeric items in a dictionary."
   ]
  },
  {
   "cell_type": "code",
   "execution_count": 4,
   "metadata": {},
   "outputs": [
    {
     "name": "stdout",
     "output_type": "stream",
     "text": [
      "Sum all the numeric items in a dictionary is:  1430\n"
     ]
    }
   ],
   "source": [
    "numeric_dict = {\"data1\": 45,'data2':85, \"data3\" :18,'data4':1282}\n",
    "sum = 0\n",
    "for i,j in numeric_dict.items():\n",
    "    sum = sum + j\n",
    "print(\"Sum all the numeric items in a dictionary is: \", sum)"
   ]
  },
  {
   "cell_type": "markdown",
   "metadata": {},
   "source": [
    "# 5. Write a program to identify duplicate values from list."
   ]
  },
  {
   "cell_type": "code",
   "execution_count": 5,
   "metadata": {},
   "outputs": [
    {
     "name": "stdout",
     "output_type": "stream",
     "text": [
      "Duplicate [44, 323, 23, 44, 23, 10]\n"
     ]
    }
   ],
   "source": [
    "data_lst = [23,44,323,44,323,23,5,44,23,10,3,2,1,6,10,85,32,12]\n",
    "Clean_data = []\n",
    "duplicate_data = []\n",
    "for i in data_lst:\n",
    "    if i not in Clean_data:\n",
    "        Clean_data.append(i)\n",
    "    else:\n",
    "        duplicate_data.append(i)\n",
    "print(\"Duplicate\",duplicate_data)"
   ]
  },
  {
   "cell_type": "markdown",
   "metadata": {},
   "source": [
    "# 6. Write a Python script to check if a given key already exists in a dictionary"
   ]
  },
  {
   "cell_type": "code",
   "execution_count": 6,
   "metadata": {},
   "outputs": [
    {
     "name": "stdout",
     "output_type": "stream",
     "text": [
      "Enter any key: 3\n",
      "Key is present in the dictionary\n"
     ]
    }
   ],
   "source": [
    "d = {1: 10, 2: 20, 3: 30, 4: 40, 5: 50, 6: 60}\n",
    "x = int(input(\"Enter any key: \"))\n",
    "if x in d:\n",
    "    print('Key is present in the dictionary')\n",
    "else:\n",
    "    print('Key is not present in the dictionary')\n"
   ]
  },
  {
   "cell_type": "code",
   "execution_count": null,
   "metadata": {},
   "outputs": [],
   "source": []
  }
 ],
 "metadata": {
  "kernelspec": {
   "display_name": "Python 3",
   "language": "python",
   "name": "python3"
  },
  "language_info": {
   "codemirror_mode": {
    "name": "ipython",
    "version": 3
   },
   "file_extension": ".py",
   "mimetype": "text/x-python",
   "name": "python",
   "nbconvert_exporter": "python",
   "pygments_lexer": "ipython3",
   "version": "3.8.5"
  }
 },
 "nbformat": 4,
 "nbformat_minor": 4
}
